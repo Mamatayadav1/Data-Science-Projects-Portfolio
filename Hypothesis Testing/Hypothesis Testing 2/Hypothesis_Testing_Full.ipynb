{
  "cells": [
    {
      "cell_type": "markdown",
      "id": "44b92230",
      "metadata": {
        "id": "44b92230"
      },
      "source": [
        "\n",
        "# 📘 Comprehensive Hypothesis Testing Notebook\n",
        "\n",
        "This notebook includes a wide range of hypothesis tests using real-world data. Each section includes:\n",
        "- A brief explanation of the test.\n",
        "- The implementation using Python.\n",
        "- Interpretation of the result.\n"
      ]
    },
    {
      "cell_type": "code",
      "source": [
        "# Hypothesis Testing - All Major Types\n",
        "\n",
        "# Setup"
      ],
      "metadata": {
        "id": "QY-WuGqRJxmA"
      },
      "id": "QY-WuGqRJxmA",
      "execution_count": 1,
      "outputs": []
    },
    {
      "cell_type": "code",
      "source": [
        "import pandas as pd\n",
        "import numpy as np\n",
        "import scipy.stats as stats\n",
        "import matplotlib.pyplot as plt\n",
        "import seaborn as sns\n",
        "from statsmodels.stats.proportion import proportions_ztest\n",
        "from statsmodels.formula.api import ols\n",
        "import statsmodels.api as sm\n",
        "import os"
      ],
      "metadata": {
        "id": "pCTzSateJxpM"
      },
      "id": "pCTzSateJxpM",
      "execution_count": 2,
      "outputs": []
    },
    {
      "cell_type": "markdown",
      "source": [
        "| **Dataset** | **Structure**                   | **Purpose**                                                                               | **Typical Use**                                                             |\n",
        "| ----------- | ------------------------------- | ----------------------------------------------------------------------------------------- | --------------------------------------------------------------------------- |\n",
        "| `sim_df`    | DataFrame (from `sim_tips.csv`) | A simulated dataset similar to the `tips` dataset with numeric and categorical variables. | Used in **regression modeling**, e.g., linear regression, t-tests, F-tests. |\n",
        "| `before`    | Series (from `before.csv`)      | Represents measurements taken **before** an event, treatment, or change.                  | Used for **paired comparison** with `after`, e.g., **paired t-test**.       |\n",
        "| `after`     | Series (from `after.csv`)       | Represents measurements taken **after** an event, treatment, or change.                   | Compared with `before` to check for **significant difference/improvement**. |\n"
      ],
      "metadata": {
        "id": "Rm2iXNLAaom9"
      },
      "id": "Rm2iXNLAaom9"
    },
    {
      "cell_type": "code",
      "source": [
        "\n",
        "if not os.path.exists('/mnt/data'):\n",
        "    os.makedirs('/mnt/data')\n",
        "\n",
        "tips = sns.load_dataset(\"tips\")\n",
        "# Creating a binary column 'high_tip' for testing proportions (e.g., tip > $5)\n",
        "tips['high_tip'] = (tips['tip'] > 5).astype(int)\n",
        "tips.to_csv(\"/mnt/data/sim_tips.csv\", index=False)\n",
        "\n"
      ],
      "metadata": {
        "id": "nG2q1390Lqth"
      },
      "id": "nG2q1390Lqth",
      "execution_count": 3,
      "outputs": []
    },
    {
      "cell_type": "code",
      "source": [
        "np.random.seed(42)\n",
        "before = np.random.normal(loc=50, scale=10, size=30)\n",
        "after = before + np.random.normal(loc=5, scale=5, size=30)  # assumed improvement\n",
        "\n",
        "pd.DataFrame({'before': before}).to_csv(\"/mnt/data/before.csv\", index=False)\n",
        "pd.DataFrame({'after': after}).to_csv(\"/mnt/data/after.csv\", index=False)"
      ],
      "metadata": {
        "id": "nf24U9hjKXa_"
      },
      "id": "nf24U9hjKXa_",
      "execution_count": 4,
      "outputs": []
    },
    {
      "cell_type": "code",
      "source": [
        "# Loading dataset\n",
        "sim_df = pd.read_csv(\"/mnt/data/sim_tips.csv\")\n",
        "before = pd.read_csv(\"/mnt/data/before.csv\")['before']\n",
        "after = pd.read_csv(\"/mnt/data/after.csv\")['after']"
      ],
      "metadata": {
        "id": "H-JX76F_Jxu_"
      },
      "id": "H-JX76F_Jxu_",
      "execution_count": 5,
      "outputs": []
    },
    {
      "cell_type": "code",
      "source": [
        "def basic_summary(df):\n",
        "    summary = pd.DataFrame(df.dtypes, columns=['Data Type']).reset_index().rename(columns={'index': 'Feature'})\n",
        "    summary['Num of Nulls'] = df.isnull().sum().values\n",
        "    summary['Num of Unique'] = df.nunique().values\n",
        "    return summary"
      ],
      "metadata": {
        "id": "z92G_Cm6YN1W"
      },
      "id": "z92G_Cm6YN1W",
      "execution_count": 6,
      "outputs": []
    },
    {
      "cell_type": "code",
      "source": [
        "# Converting Series to DataFrames with column names for compatibility\n",
        "before_df = before.to_frame()\n",
        "after_df = after.to_frame()"
      ],
      "metadata": {
        "id": "o33KXHMcYyYs"
      },
      "id": "o33KXHMcYyYs",
      "execution_count": 7,
      "outputs": []
    },
    {
      "cell_type": "code",
      "source": [
        "# Display summaries\n",
        "print(\"Summary for sim_df:\")\n",
        "display(basic_summary(sim_df))\n",
        "\n",
        "print(\"Summary for before:\")\n",
        "display(basic_summary(before_df))\n",
        "\n",
        "print(\"Summary for after:\")\n",
        "display(basic_summary(after_df))"
      ],
      "metadata": {
        "colab": {
          "base_uri": "https://localhost:8080/",
          "height": 479
        },
        "id": "Dr3oXBEQYyj-",
        "outputId": "a7f09829-9324-47f0-e09c-22e6799ce34b"
      },
      "id": "Dr3oXBEQYyj-",
      "execution_count": 8,
      "outputs": [
        {
          "output_type": "stream",
          "name": "stdout",
          "text": [
            "Summary for sim_df:\n"
          ]
        },
        {
          "output_type": "display_data",
          "data": {
            "text/plain": [
              "      Feature Data Type  Num of Nulls  Num of Unique\n",
              "0  total_bill   float64             0            229\n",
              "1         tip   float64             0            123\n",
              "2         sex    object             0              2\n",
              "3      smoker    object             0              2\n",
              "4         day    object             0              4\n",
              "5        time    object             0              2\n",
              "6        size     int64             0              6\n",
              "7    high_tip     int64             0              2"
            ],
            "text/html": [
              "\n",
              "  <div id=\"df-2b4e61e0-1348-4e34-a31a-41872b58714a\" class=\"colab-df-container\">\n",
              "    <div>\n",
              "<style scoped>\n",
              "    .dataframe tbody tr th:only-of-type {\n",
              "        vertical-align: middle;\n",
              "    }\n",
              "\n",
              "    .dataframe tbody tr th {\n",
              "        vertical-align: top;\n",
              "    }\n",
              "\n",
              "    .dataframe thead th {\n",
              "        text-align: right;\n",
              "    }\n",
              "</style>\n",
              "<table border=\"1\" class=\"dataframe\">\n",
              "  <thead>\n",
              "    <tr style=\"text-align: right;\">\n",
              "      <th></th>\n",
              "      <th>Feature</th>\n",
              "      <th>Data Type</th>\n",
              "      <th>Num of Nulls</th>\n",
              "      <th>Num of Unique</th>\n",
              "    </tr>\n",
              "  </thead>\n",
              "  <tbody>\n",
              "    <tr>\n",
              "      <th>0</th>\n",
              "      <td>total_bill</td>\n",
              "      <td>float64</td>\n",
              "      <td>0</td>\n",
              "      <td>229</td>\n",
              "    </tr>\n",
              "    <tr>\n",
              "      <th>1</th>\n",
              "      <td>tip</td>\n",
              "      <td>float64</td>\n",
              "      <td>0</td>\n",
              "      <td>123</td>\n",
              "    </tr>\n",
              "    <tr>\n",
              "      <th>2</th>\n",
              "      <td>sex</td>\n",
              "      <td>object</td>\n",
              "      <td>0</td>\n",
              "      <td>2</td>\n",
              "    </tr>\n",
              "    <tr>\n",
              "      <th>3</th>\n",
              "      <td>smoker</td>\n",
              "      <td>object</td>\n",
              "      <td>0</td>\n",
              "      <td>2</td>\n",
              "    </tr>\n",
              "    <tr>\n",
              "      <th>4</th>\n",
              "      <td>day</td>\n",
              "      <td>object</td>\n",
              "      <td>0</td>\n",
              "      <td>4</td>\n",
              "    </tr>\n",
              "    <tr>\n",
              "      <th>5</th>\n",
              "      <td>time</td>\n",
              "      <td>object</td>\n",
              "      <td>0</td>\n",
              "      <td>2</td>\n",
              "    </tr>\n",
              "    <tr>\n",
              "      <th>6</th>\n",
              "      <td>size</td>\n",
              "      <td>int64</td>\n",
              "      <td>0</td>\n",
              "      <td>6</td>\n",
              "    </tr>\n",
              "    <tr>\n",
              "      <th>7</th>\n",
              "      <td>high_tip</td>\n",
              "      <td>int64</td>\n",
              "      <td>0</td>\n",
              "      <td>2</td>\n",
              "    </tr>\n",
              "  </tbody>\n",
              "</table>\n",
              "</div>\n",
              "    <div class=\"colab-df-buttons\">\n",
              "\n",
              "  <div class=\"colab-df-container\">\n",
              "    <button class=\"colab-df-convert\" onclick=\"convertToInteractive('df-2b4e61e0-1348-4e34-a31a-41872b58714a')\"\n",
              "            title=\"Convert this dataframe to an interactive table.\"\n",
              "            style=\"display:none;\">\n",
              "\n",
              "  <svg xmlns=\"http://www.w3.org/2000/svg\" height=\"24px\" viewBox=\"0 -960 960 960\">\n",
              "    <path d=\"M120-120v-720h720v720H120Zm60-500h600v-160H180v160Zm220 220h160v-160H400v160Zm0 220h160v-160H400v160ZM180-400h160v-160H180v160Zm440 0h160v-160H620v160ZM180-180h160v-160H180v160Zm440 0h160v-160H620v160Z\"/>\n",
              "  </svg>\n",
              "    </button>\n",
              "\n",
              "  <style>\n",
              "    .colab-df-container {\n",
              "      display:flex;\n",
              "      gap: 12px;\n",
              "    }\n",
              "\n",
              "    .colab-df-convert {\n",
              "      background-color: #E8F0FE;\n",
              "      border: none;\n",
              "      border-radius: 50%;\n",
              "      cursor: pointer;\n",
              "      display: none;\n",
              "      fill: #1967D2;\n",
              "      height: 32px;\n",
              "      padding: 0 0 0 0;\n",
              "      width: 32px;\n",
              "    }\n",
              "\n",
              "    .colab-df-convert:hover {\n",
              "      background-color: #E2EBFA;\n",
              "      box-shadow: 0px 1px 2px rgba(60, 64, 67, 0.3), 0px 1px 3px 1px rgba(60, 64, 67, 0.15);\n",
              "      fill: #174EA6;\n",
              "    }\n",
              "\n",
              "    .colab-df-buttons div {\n",
              "      margin-bottom: 4px;\n",
              "    }\n",
              "\n",
              "    [theme=dark] .colab-df-convert {\n",
              "      background-color: #3B4455;\n",
              "      fill: #D2E3FC;\n",
              "    }\n",
              "\n",
              "    [theme=dark] .colab-df-convert:hover {\n",
              "      background-color: #434B5C;\n",
              "      box-shadow: 0px 1px 3px 1px rgba(0, 0, 0, 0.15);\n",
              "      filter: drop-shadow(0px 1px 2px rgba(0, 0, 0, 0.3));\n",
              "      fill: #FFFFFF;\n",
              "    }\n",
              "  </style>\n",
              "\n",
              "    <script>\n",
              "      const buttonEl =\n",
              "        document.querySelector('#df-2b4e61e0-1348-4e34-a31a-41872b58714a button.colab-df-convert');\n",
              "      buttonEl.style.display =\n",
              "        google.colab.kernel.accessAllowed ? 'block' : 'none';\n",
              "\n",
              "      async function convertToInteractive(key) {\n",
              "        const element = document.querySelector('#df-2b4e61e0-1348-4e34-a31a-41872b58714a');\n",
              "        const dataTable =\n",
              "          await google.colab.kernel.invokeFunction('convertToInteractive',\n",
              "                                                    [key], {});\n",
              "        if (!dataTable) return;\n",
              "\n",
              "        const docLinkHtml = 'Like what you see? Visit the ' +\n",
              "          '<a target=\"_blank\" href=https://colab.research.google.com/notebooks/data_table.ipynb>data table notebook</a>'\n",
              "          + ' to learn more about interactive tables.';\n",
              "        element.innerHTML = '';\n",
              "        dataTable['output_type'] = 'display_data';\n",
              "        await google.colab.output.renderOutput(dataTable, element);\n",
              "        const docLink = document.createElement('div');\n",
              "        docLink.innerHTML = docLinkHtml;\n",
              "        element.appendChild(docLink);\n",
              "      }\n",
              "    </script>\n",
              "  </div>\n",
              "\n",
              "\n",
              "    <div id=\"df-eecda347-1400-405c-a5ea-d60c5c494aaa\">\n",
              "      <button class=\"colab-df-quickchart\" onclick=\"quickchart('df-eecda347-1400-405c-a5ea-d60c5c494aaa')\"\n",
              "                title=\"Suggest charts\"\n",
              "                style=\"display:none;\">\n",
              "\n",
              "<svg xmlns=\"http://www.w3.org/2000/svg\" height=\"24px\"viewBox=\"0 0 24 24\"\n",
              "     width=\"24px\">\n",
              "    <g>\n",
              "        <path d=\"M19 3H5c-1.1 0-2 .9-2 2v14c0 1.1.9 2 2 2h14c1.1 0 2-.9 2-2V5c0-1.1-.9-2-2-2zM9 17H7v-7h2v7zm4 0h-2V7h2v10zm4 0h-2v-4h2v4z\"/>\n",
              "    </g>\n",
              "</svg>\n",
              "      </button>\n",
              "\n",
              "<style>\n",
              "  .colab-df-quickchart {\n",
              "      --bg-color: #E8F0FE;\n",
              "      --fill-color: #1967D2;\n",
              "      --hover-bg-color: #E2EBFA;\n",
              "      --hover-fill-color: #174EA6;\n",
              "      --disabled-fill-color: #AAA;\n",
              "      --disabled-bg-color: #DDD;\n",
              "  }\n",
              "\n",
              "  [theme=dark] .colab-df-quickchart {\n",
              "      --bg-color: #3B4455;\n",
              "      --fill-color: #D2E3FC;\n",
              "      --hover-bg-color: #434B5C;\n",
              "      --hover-fill-color: #FFFFFF;\n",
              "      --disabled-bg-color: #3B4455;\n",
              "      --disabled-fill-color: #666;\n",
              "  }\n",
              "\n",
              "  .colab-df-quickchart {\n",
              "    background-color: var(--bg-color);\n",
              "    border: none;\n",
              "    border-radius: 50%;\n",
              "    cursor: pointer;\n",
              "    display: none;\n",
              "    fill: var(--fill-color);\n",
              "    height: 32px;\n",
              "    padding: 0;\n",
              "    width: 32px;\n",
              "  }\n",
              "\n",
              "  .colab-df-quickchart:hover {\n",
              "    background-color: var(--hover-bg-color);\n",
              "    box-shadow: 0 1px 2px rgba(60, 64, 67, 0.3), 0 1px 3px 1px rgba(60, 64, 67, 0.15);\n",
              "    fill: var(--button-hover-fill-color);\n",
              "  }\n",
              "\n",
              "  .colab-df-quickchart-complete:disabled,\n",
              "  .colab-df-quickchart-complete:disabled:hover {\n",
              "    background-color: var(--disabled-bg-color);\n",
              "    fill: var(--disabled-fill-color);\n",
              "    box-shadow: none;\n",
              "  }\n",
              "\n",
              "  .colab-df-spinner {\n",
              "    border: 2px solid var(--fill-color);\n",
              "    border-color: transparent;\n",
              "    border-bottom-color: var(--fill-color);\n",
              "    animation:\n",
              "      spin 1s steps(1) infinite;\n",
              "  }\n",
              "\n",
              "  @keyframes spin {\n",
              "    0% {\n",
              "      border-color: transparent;\n",
              "      border-bottom-color: var(--fill-color);\n",
              "      border-left-color: var(--fill-color);\n",
              "    }\n",
              "    20% {\n",
              "      border-color: transparent;\n",
              "      border-left-color: var(--fill-color);\n",
              "      border-top-color: var(--fill-color);\n",
              "    }\n",
              "    30% {\n",
              "      border-color: transparent;\n",
              "      border-left-color: var(--fill-color);\n",
              "      border-top-color: var(--fill-color);\n",
              "      border-right-color: var(--fill-color);\n",
              "    }\n",
              "    40% {\n",
              "      border-color: transparent;\n",
              "      border-right-color: var(--fill-color);\n",
              "      border-top-color: var(--fill-color);\n",
              "    }\n",
              "    60% {\n",
              "      border-color: transparent;\n",
              "      border-right-color: var(--fill-color);\n",
              "    }\n",
              "    80% {\n",
              "      border-color: transparent;\n",
              "      border-right-color: var(--fill-color);\n",
              "      border-bottom-color: var(--fill-color);\n",
              "    }\n",
              "    90% {\n",
              "      border-color: transparent;\n",
              "      border-bottom-color: var(--fill-color);\n",
              "    }\n",
              "  }\n",
              "</style>\n",
              "\n",
              "      <script>\n",
              "        async function quickchart(key) {\n",
              "          const quickchartButtonEl =\n",
              "            document.querySelector('#' + key + ' button');\n",
              "          quickchartButtonEl.disabled = true;  // To prevent multiple clicks.\n",
              "          quickchartButtonEl.classList.add('colab-df-spinner');\n",
              "          try {\n",
              "            const charts = await google.colab.kernel.invokeFunction(\n",
              "                'suggestCharts', [key], {});\n",
              "          } catch (error) {\n",
              "            console.error('Error during call to suggestCharts:', error);\n",
              "          }\n",
              "          quickchartButtonEl.classList.remove('colab-df-spinner');\n",
              "          quickchartButtonEl.classList.add('colab-df-quickchart-complete');\n",
              "        }\n",
              "        (() => {\n",
              "          let quickchartButtonEl =\n",
              "            document.querySelector('#df-eecda347-1400-405c-a5ea-d60c5c494aaa button');\n",
              "          quickchartButtonEl.style.display =\n",
              "            google.colab.kernel.accessAllowed ? 'block' : 'none';\n",
              "        })();\n",
              "      </script>\n",
              "    </div>\n",
              "\n",
              "    </div>\n",
              "  </div>\n"
            ],
            "application/vnd.google.colaboratory.intrinsic+json": {
              "type": "dataframe",
              "summary": "{\n  \"name\": \"display(basic_summary(after_df))\",\n  \"rows\": 8,\n  \"fields\": [\n    {\n      \"column\": \"Feature\",\n      \"properties\": {\n        \"dtype\": \"string\",\n        \"num_unique_values\": 8,\n        \"samples\": [\n          \"tip\",\n          \"time\",\n          \"total_bill\"\n        ],\n        \"semantic_type\": \"\",\n        \"description\": \"\"\n      }\n    },\n    {\n      \"column\": \"Data Type\",\n      \"properties\": {\n        \"dtype\": \"category\",\n        \"num_unique_values\": 3,\n        \"samples\": [\n          \"float64\",\n          \"object\",\n          \"int64\"\n        ],\n        \"semantic_type\": \"\",\n        \"description\": \"\"\n      }\n    },\n    {\n      \"column\": \"Num of Nulls\",\n      \"properties\": {\n        \"dtype\": \"number\",\n        \"std\": 0,\n        \"min\": 0,\n        \"max\": 0,\n        \"num_unique_values\": 1,\n        \"samples\": [\n          0\n        ],\n        \"semantic_type\": \"\",\n        \"description\": \"\"\n      }\n    },\n    {\n      \"column\": \"Num of Unique\",\n      \"properties\": {\n        \"dtype\": \"number\",\n        \"std\": 84,\n        \"min\": 2,\n        \"max\": 229,\n        \"num_unique_values\": 5,\n        \"samples\": [\n          123\n        ],\n        \"semantic_type\": \"\",\n        \"description\": \"\"\n      }\n    }\n  ]\n}"
            }
          },
          "metadata": {}
        },
        {
          "output_type": "stream",
          "name": "stdout",
          "text": [
            "Summary for before:\n"
          ]
        },
        {
          "output_type": "display_data",
          "data": {
            "text/plain": [
              "  Feature Data Type  Num of Nulls  Num of Unique\n",
              "0  before   float64             0             30"
            ],
            "text/html": [
              "\n",
              "  <div id=\"df-1c4d73be-7cbe-44f2-a558-192c0b6891a2\" class=\"colab-df-container\">\n",
              "    <div>\n",
              "<style scoped>\n",
              "    .dataframe tbody tr th:only-of-type {\n",
              "        vertical-align: middle;\n",
              "    }\n",
              "\n",
              "    .dataframe tbody tr th {\n",
              "        vertical-align: top;\n",
              "    }\n",
              "\n",
              "    .dataframe thead th {\n",
              "        text-align: right;\n",
              "    }\n",
              "</style>\n",
              "<table border=\"1\" class=\"dataframe\">\n",
              "  <thead>\n",
              "    <tr style=\"text-align: right;\">\n",
              "      <th></th>\n",
              "      <th>Feature</th>\n",
              "      <th>Data Type</th>\n",
              "      <th>Num of Nulls</th>\n",
              "      <th>Num of Unique</th>\n",
              "    </tr>\n",
              "  </thead>\n",
              "  <tbody>\n",
              "    <tr>\n",
              "      <th>0</th>\n",
              "      <td>before</td>\n",
              "      <td>float64</td>\n",
              "      <td>0</td>\n",
              "      <td>30</td>\n",
              "    </tr>\n",
              "  </tbody>\n",
              "</table>\n",
              "</div>\n",
              "    <div class=\"colab-df-buttons\">\n",
              "\n",
              "  <div class=\"colab-df-container\">\n",
              "    <button class=\"colab-df-convert\" onclick=\"convertToInteractive('df-1c4d73be-7cbe-44f2-a558-192c0b6891a2')\"\n",
              "            title=\"Convert this dataframe to an interactive table.\"\n",
              "            style=\"display:none;\">\n",
              "\n",
              "  <svg xmlns=\"http://www.w3.org/2000/svg\" height=\"24px\" viewBox=\"0 -960 960 960\">\n",
              "    <path d=\"M120-120v-720h720v720H120Zm60-500h600v-160H180v160Zm220 220h160v-160H400v160Zm0 220h160v-160H400v160ZM180-400h160v-160H180v160Zm440 0h160v-160H620v160ZM180-180h160v-160H180v160Zm440 0h160v-160H620v160Z\"/>\n",
              "  </svg>\n",
              "    </button>\n",
              "\n",
              "  <style>\n",
              "    .colab-df-container {\n",
              "      display:flex;\n",
              "      gap: 12px;\n",
              "    }\n",
              "\n",
              "    .colab-df-convert {\n",
              "      background-color: #E8F0FE;\n",
              "      border: none;\n",
              "      border-radius: 50%;\n",
              "      cursor: pointer;\n",
              "      display: none;\n",
              "      fill: #1967D2;\n",
              "      height: 32px;\n",
              "      padding: 0 0 0 0;\n",
              "      width: 32px;\n",
              "    }\n",
              "\n",
              "    .colab-df-convert:hover {\n",
              "      background-color: #E2EBFA;\n",
              "      box-shadow: 0px 1px 2px rgba(60, 64, 67, 0.3), 0px 1px 3px 1px rgba(60, 64, 67, 0.15);\n",
              "      fill: #174EA6;\n",
              "    }\n",
              "\n",
              "    .colab-df-buttons div {\n",
              "      margin-bottom: 4px;\n",
              "    }\n",
              "\n",
              "    [theme=dark] .colab-df-convert {\n",
              "      background-color: #3B4455;\n",
              "      fill: #D2E3FC;\n",
              "    }\n",
              "\n",
              "    [theme=dark] .colab-df-convert:hover {\n",
              "      background-color: #434B5C;\n",
              "      box-shadow: 0px 1px 3px 1px rgba(0, 0, 0, 0.15);\n",
              "      filter: drop-shadow(0px 1px 2px rgba(0, 0, 0, 0.3));\n",
              "      fill: #FFFFFF;\n",
              "    }\n",
              "  </style>\n",
              "\n",
              "    <script>\n",
              "      const buttonEl =\n",
              "        document.querySelector('#df-1c4d73be-7cbe-44f2-a558-192c0b6891a2 button.colab-df-convert');\n",
              "      buttonEl.style.display =\n",
              "        google.colab.kernel.accessAllowed ? 'block' : 'none';\n",
              "\n",
              "      async function convertToInteractive(key) {\n",
              "        const element = document.querySelector('#df-1c4d73be-7cbe-44f2-a558-192c0b6891a2');\n",
              "        const dataTable =\n",
              "          await google.colab.kernel.invokeFunction('convertToInteractive',\n",
              "                                                    [key], {});\n",
              "        if (!dataTable) return;\n",
              "\n",
              "        const docLinkHtml = 'Like what you see? Visit the ' +\n",
              "          '<a target=\"_blank\" href=https://colab.research.google.com/notebooks/data_table.ipynb>data table notebook</a>'\n",
              "          + ' to learn more about interactive tables.';\n",
              "        element.innerHTML = '';\n",
              "        dataTable['output_type'] = 'display_data';\n",
              "        await google.colab.output.renderOutput(dataTable, element);\n",
              "        const docLink = document.createElement('div');\n",
              "        docLink.innerHTML = docLinkHtml;\n",
              "        element.appendChild(docLink);\n",
              "      }\n",
              "    </script>\n",
              "  </div>\n",
              "\n",
              "\n",
              "    </div>\n",
              "  </div>\n"
            ],
            "application/vnd.google.colaboratory.intrinsic+json": {
              "type": "dataframe",
              "summary": "{\n  \"name\": \"display(basic_summary(after_df))\",\n  \"rows\": 1,\n  \"fields\": [\n    {\n      \"column\": \"Feature\",\n      \"properties\": {\n        \"dtype\": \"string\",\n        \"num_unique_values\": 1,\n        \"samples\": [\n          \"before\"\n        ],\n        \"semantic_type\": \"\",\n        \"description\": \"\"\n      }\n    },\n    {\n      \"column\": \"Data Type\",\n      \"properties\": {\n        \"dtype\": \"string\",\n        \"num_unique_values\": 1,\n        \"samples\": [\n          \"float64\"\n        ],\n        \"semantic_type\": \"\",\n        \"description\": \"\"\n      }\n    },\n    {\n      \"column\": \"Num of Nulls\",\n      \"properties\": {\n        \"dtype\": \"number\",\n        \"std\": null,\n        \"min\": 0,\n        \"max\": 0,\n        \"num_unique_values\": 1,\n        \"samples\": [\n          0\n        ],\n        \"semantic_type\": \"\",\n        \"description\": \"\"\n      }\n    },\n    {\n      \"column\": \"Num of Unique\",\n      \"properties\": {\n        \"dtype\": \"number\",\n        \"std\": null,\n        \"min\": 30,\n        \"max\": 30,\n        \"num_unique_values\": 1,\n        \"samples\": [\n          30\n        ],\n        \"semantic_type\": \"\",\n        \"description\": \"\"\n      }\n    }\n  ]\n}"
            }
          },
          "metadata": {}
        },
        {
          "output_type": "stream",
          "name": "stdout",
          "text": [
            "Summary for after:\n"
          ]
        },
        {
          "output_type": "display_data",
          "data": {
            "text/plain": [
              "  Feature Data Type  Num of Nulls  Num of Unique\n",
              "0   after   float64             0             30"
            ],
            "text/html": [
              "\n",
              "  <div id=\"df-70e9299d-91a6-4280-9cd1-ea45967a9767\" class=\"colab-df-container\">\n",
              "    <div>\n",
              "<style scoped>\n",
              "    .dataframe tbody tr th:only-of-type {\n",
              "        vertical-align: middle;\n",
              "    }\n",
              "\n",
              "    .dataframe tbody tr th {\n",
              "        vertical-align: top;\n",
              "    }\n",
              "\n",
              "    .dataframe thead th {\n",
              "        text-align: right;\n",
              "    }\n",
              "</style>\n",
              "<table border=\"1\" class=\"dataframe\">\n",
              "  <thead>\n",
              "    <tr style=\"text-align: right;\">\n",
              "      <th></th>\n",
              "      <th>Feature</th>\n",
              "      <th>Data Type</th>\n",
              "      <th>Num of Nulls</th>\n",
              "      <th>Num of Unique</th>\n",
              "    </tr>\n",
              "  </thead>\n",
              "  <tbody>\n",
              "    <tr>\n",
              "      <th>0</th>\n",
              "      <td>after</td>\n",
              "      <td>float64</td>\n",
              "      <td>0</td>\n",
              "      <td>30</td>\n",
              "    </tr>\n",
              "  </tbody>\n",
              "</table>\n",
              "</div>\n",
              "    <div class=\"colab-df-buttons\">\n",
              "\n",
              "  <div class=\"colab-df-container\">\n",
              "    <button class=\"colab-df-convert\" onclick=\"convertToInteractive('df-70e9299d-91a6-4280-9cd1-ea45967a9767')\"\n",
              "            title=\"Convert this dataframe to an interactive table.\"\n",
              "            style=\"display:none;\">\n",
              "\n",
              "  <svg xmlns=\"http://www.w3.org/2000/svg\" height=\"24px\" viewBox=\"0 -960 960 960\">\n",
              "    <path d=\"M120-120v-720h720v720H120Zm60-500h600v-160H180v160Zm220 220h160v-160H400v160Zm0 220h160v-160H400v160ZM180-400h160v-160H180v160Zm440 0h160v-160H620v160ZM180-180h160v-160H180v160Zm440 0h160v-160H620v160Z\"/>\n",
              "  </svg>\n",
              "    </button>\n",
              "\n",
              "  <style>\n",
              "    .colab-df-container {\n",
              "      display:flex;\n",
              "      gap: 12px;\n",
              "    }\n",
              "\n",
              "    .colab-df-convert {\n",
              "      background-color: #E8F0FE;\n",
              "      border: none;\n",
              "      border-radius: 50%;\n",
              "      cursor: pointer;\n",
              "      display: none;\n",
              "      fill: #1967D2;\n",
              "      height: 32px;\n",
              "      padding: 0 0 0 0;\n",
              "      width: 32px;\n",
              "    }\n",
              "\n",
              "    .colab-df-convert:hover {\n",
              "      background-color: #E2EBFA;\n",
              "      box-shadow: 0px 1px 2px rgba(60, 64, 67, 0.3), 0px 1px 3px 1px rgba(60, 64, 67, 0.15);\n",
              "      fill: #174EA6;\n",
              "    }\n",
              "\n",
              "    .colab-df-buttons div {\n",
              "      margin-bottom: 4px;\n",
              "    }\n",
              "\n",
              "    [theme=dark] .colab-df-convert {\n",
              "      background-color: #3B4455;\n",
              "      fill: #D2E3FC;\n",
              "    }\n",
              "\n",
              "    [theme=dark] .colab-df-convert:hover {\n",
              "      background-color: #434B5C;\n",
              "      box-shadow: 0px 1px 3px 1px rgba(0, 0, 0, 0.15);\n",
              "      filter: drop-shadow(0px 1px 2px rgba(0, 0, 0, 0.3));\n",
              "      fill: #FFFFFF;\n",
              "    }\n",
              "  </style>\n",
              "\n",
              "    <script>\n",
              "      const buttonEl =\n",
              "        document.querySelector('#df-70e9299d-91a6-4280-9cd1-ea45967a9767 button.colab-df-convert');\n",
              "      buttonEl.style.display =\n",
              "        google.colab.kernel.accessAllowed ? 'block' : 'none';\n",
              "\n",
              "      async function convertToInteractive(key) {\n",
              "        const element = document.querySelector('#df-70e9299d-91a6-4280-9cd1-ea45967a9767');\n",
              "        const dataTable =\n",
              "          await google.colab.kernel.invokeFunction('convertToInteractive',\n",
              "                                                    [key], {});\n",
              "        if (!dataTable) return;\n",
              "\n",
              "        const docLinkHtml = 'Like what you see? Visit the ' +\n",
              "          '<a target=\"_blank\" href=https://colab.research.google.com/notebooks/data_table.ipynb>data table notebook</a>'\n",
              "          + ' to learn more about interactive tables.';\n",
              "        element.innerHTML = '';\n",
              "        dataTable['output_type'] = 'display_data';\n",
              "        await google.colab.output.renderOutput(dataTable, element);\n",
              "        const docLink = document.createElement('div');\n",
              "        docLink.innerHTML = docLinkHtml;\n",
              "        element.appendChild(docLink);\n",
              "      }\n",
              "    </script>\n",
              "  </div>\n",
              "\n",
              "\n",
              "    </div>\n",
              "  </div>\n"
            ],
            "application/vnd.google.colaboratory.intrinsic+json": {
              "type": "dataframe",
              "summary": "{\n  \"name\": \"display(basic_summary(after_df))\",\n  \"rows\": 1,\n  \"fields\": [\n    {\n      \"column\": \"Feature\",\n      \"properties\": {\n        \"dtype\": \"string\",\n        \"num_unique_values\": 1,\n        \"samples\": [\n          \"after\"\n        ],\n        \"semantic_type\": \"\",\n        \"description\": \"\"\n      }\n    },\n    {\n      \"column\": \"Data Type\",\n      \"properties\": {\n        \"dtype\": \"string\",\n        \"num_unique_values\": 1,\n        \"samples\": [\n          \"float64\"\n        ],\n        \"semantic_type\": \"\",\n        \"description\": \"\"\n      }\n    },\n    {\n      \"column\": \"Num of Nulls\",\n      \"properties\": {\n        \"dtype\": \"number\",\n        \"std\": null,\n        \"min\": 0,\n        \"max\": 0,\n        \"num_unique_values\": 1,\n        \"samples\": [\n          0\n        ],\n        \"semantic_type\": \"\",\n        \"description\": \"\"\n      }\n    },\n    {\n      \"column\": \"Num of Unique\",\n      \"properties\": {\n        \"dtype\": \"number\",\n        \"std\": null,\n        \"min\": 30,\n        \"max\": 30,\n        \"num_unique_values\": 1,\n        \"samples\": [\n          30\n        ],\n        \"semantic_type\": \"\",\n        \"description\": \"\"\n      }\n    }\n  ]\n}"
            }
          },
          "metadata": {}
        }
      ]
    },
    {
      "cell_type": "markdown",
      "source": [
        "\n",
        "# 1. Tests for Means\n",
        "\n",
        "# One-Sample t-test\n",
        "\n",
        "\n",
        "*   # ✅ Purpose:\n",
        "\n",
        "---\n",
        "- The one-sample t-test is used to test whether the mean of a single sample differs significantly from a known or hypothesized population mean, when the population standard deviation is unknown.\n",
        "\n",
        "\n"
      ],
      "metadata": {
        "id": "3jTE2R4qNhIp"
      },
      "id": "3jTE2R4qNhIp"
    },
    {
      "cell_type": "code",
      "source": [
        "t_stat, p_val = stats.ttest_1samp(sim_df['tip'], popmean=3.0)\n",
        "print(f\"One-sample t-test: t-stat={t_stat:.3f}, p-value={p_val:.3f}\")"
      ],
      "metadata": {
        "colab": {
          "base_uri": "https://localhost:8080/"
        },
        "id": "rq0efAOaJxxs",
        "outputId": "33a4abdd-9a2e-44db-829a-246c035f6034"
      },
      "id": "rq0efAOaJxxs",
      "execution_count": 9,
      "outputs": [
        {
          "output_type": "stream",
          "name": "stdout",
          "text": [
            "One-sample t-test: t-stat=-0.019, p-value=0.985\n"
          ]
        }
      ]
    },
    {
      "cell_type": "markdown",
      "source": [
        "- Since p-value = 0.985 > 0.05, we fail to reject the null hypothesis.\n",
        "- ## 🔍 Inference:\n",
        " There is no statistically significant difference between the sample mean tip and the hypothesized population mean of $3.00.\n",
        "\n"
      ],
      "metadata": {
        "id": "0uKx9TPEOCEf"
      },
      "id": "0uKx9TPEOCEf"
    },
    {
      "cell_type": "markdown",
      "source": [
        "\n",
        "\n",
        "*   # ✅ Purpose:\n",
        "---\n",
        "- The one-sample z-test is used to compare a sample mean to a known population mean when the population standard deviation is known, or when the sample size is large (n > 30) and the Central Limit Theorem applies, allowing use of the sample standard deviation as an approximation."
      ],
      "metadata": {
        "id": "84ilVL2JO86A"
      },
      "id": "84ilVL2JO86A"
    },
    {
      "cell_type": "code",
      "source": [
        "# One-Sample z-test (approximation with large sample)\n",
        "mean_tip = sim_df['tip'].mean()\n",
        "std_tip = sim_df['tip'].std()\n",
        "n = len(sim_df)\n",
        "z = (mean_tip - 3.0) / (std_tip / np.sqrt(n))\n",
        "p = 2 * (1 - stats.norm.cdf(abs(z)))\n",
        "print(f\"One-sample z-test: z-stat={z:.3f}, p-value={p:.3f}\")"
      ],
      "metadata": {
        "colab": {
          "base_uri": "https://localhost:8080/"
        },
        "id": "N4lCQUTJJx05",
        "outputId": "45438a03-e641-484f-94e7-c7ab111f2748"
      },
      "id": "N4lCQUTJJx05",
      "execution_count": 10,
      "outputs": [
        {
          "output_type": "stream",
          "name": "stdout",
          "text": [
            "One-sample z-test: z-stat=-0.019, p-value=0.984\n"
          ]
        }
      ]
    },
    {
      "cell_type": "markdown",
      "source": [
        "- Since p-value = 0.984 > 0.05, we fail to reject the null hypothesis.\n",
        "\n",
        "- # 🔍 Inference:\n",
        "There is no significant difference between the sample mean tip and the hypothesized value of $3.00, consistent with the result from the t-test."
      ],
      "metadata": {
        "id": "86V7on_aP5hj"
      },
      "id": "86V7on_aP5hj"
    },
    {
      "cell_type": "markdown",
      "source": [
        "- # Independent Two-Sample t-test:\n",
        "Compares the means of two independent groups (e.g., male vs female tips)."
      ],
      "metadata": {
        "id": "drrqSpf8Rvxf"
      },
      "id": "drrqSpf8Rvxf"
    },
    {
      "cell_type": "code",
      "source": [
        "# Independent Two-Sample t-test\n",
        "male_tips = sim_df[sim_df['sex'] == 'Male']['tip']\n",
        "female_tips = sim_df[sim_df['sex'] == 'Female']['tip']\n",
        "t_stat, p_val = stats.ttest_ind(male_tips, female_tips)\n",
        "print(f\"Two-sample t-test: t-stat={t_stat:.3f}, p-value={p_val:.3f}\")"
      ],
      "metadata": {
        "colab": {
          "base_uri": "https://localhost:8080/"
        },
        "id": "7cgoXK_fJx39",
        "outputId": "8b5c8cce-2e05-488c-f4de-fa2b74f977f0"
      },
      "id": "7cgoXK_fJx39",
      "execution_count": 11,
      "outputs": [
        {
          "output_type": "stream",
          "name": "stdout",
          "text": [
            "Two-sample t-test: t-stat=1.388, p-value=0.166\n"
          ]
        }
      ]
    },
    {
      "cell_type": "markdown",
      "source": [
        "- Interpretation: The difference in average tips between male and female customers is not statistically significant. We cannot say one gender gives higher tips than the other (p > 0.05)."
      ],
      "metadata": {
        "id": "PL1-hF96SIyF"
      },
      "id": "PL1-hF96SIyF"
    },
    {
      "cell_type": "markdown",
      "source": [
        "- # Paired Sample t-test:\n",
        "Compares means from the same group at two different times (e.g., before vs after)."
      ],
      "metadata": {
        "id": "-x57Xee5URC2"
      },
      "id": "-x57Xee5URC2"
    },
    {
      "cell_type": "code",
      "source": [
        "# Paired Sample t-test\n",
        "paired_t, paired_p = stats.ttest_rel(before, after)\n",
        "print(f\"Paired t-test: t-stat={paired_t:.3f}, p-value={paired_p:.3f}\")"
      ],
      "metadata": {
        "colab": {
          "base_uri": "https://localhost:8080/"
        },
        "id": "TOuGzaEYJx7D",
        "outputId": "15122436-4bc3-4ea6-9465-e548b2a4283d"
      },
      "id": "TOuGzaEYJx7D",
      "execution_count": 12,
      "outputs": [
        {
          "output_type": "stream",
          "name": "stdout",
          "text": [
            "Paired t-test: t-stat=-5.170, p-value=0.000\n"
          ]
        }
      ]
    },
    {
      "cell_type": "markdown",
      "source": [
        "- Interpretation: There is a statistically significant change in values between the \"before\" and \"after\" conditions. The intervention or time gap likely caused a real change."
      ],
      "metadata": {
        "id": "s-I5BoXISSHG"
      },
      "id": "s-I5BoXISSHG"
    },
    {
      "cell_type": "markdown",
      "source": [
        "- # Two-sample z-test:\n",
        "Similar to a t-test but used when population variance is known or sample size is large."
      ],
      "metadata": {
        "id": "JCFwex0sUaCT"
      },
      "id": "JCFwex0sUaCT"
    },
    {
      "cell_type": "code",
      "source": [
        "# Two-sample z-test\n",
        "n1, n2 = len(male_tips), len(female_tips)\n",
        "m1, m2 = male_tips.mean(), female_tips.mean()\n",
        "s1, s2 = male_tips.std(), female_tips.std()\n",
        "z = (m1 - m2) / np.sqrt(s1**2/n1 + s2**2/n2)\n",
        "p = 2 * (1 - stats.norm.cdf(abs(z)))\n",
        "print(f\"Two-sample z-test: z-stat={z:.3f}, p-value={p:.3f}\")"
      ],
      "metadata": {
        "colab": {
          "base_uri": "https://localhost:8080/"
        },
        "id": "Xk8B2p23Kp4G",
        "outputId": "a2e783eb-16cb-4126-ca19-927927160433"
      },
      "id": "Xk8B2p23Kp4G",
      "execution_count": 13,
      "outputs": [
        {
          "output_type": "stream",
          "name": "stdout",
          "text": [
            "Two-sample z-test: z-stat=1.490, p-value=0.136\n"
          ]
        }
      ]
    },
    {
      "cell_type": "markdown",
      "source": [
        "- Interpretation: No significant difference was found in mean tips between the two groups (e.g., male vs female). The z-test also supports that gender doesn't affect tipping (p > 0.05)."
      ],
      "metadata": {
        "id": "HH7QvaXNSWq7"
      },
      "id": "HH7QvaXNSWq7"
    },
    {
      "cell_type": "markdown",
      "source": [
        "\n",
        "# 2. Tests for Proportions\n",
        "\n",
        "\n",
        "- # One-Proportion z-test:\n",
        "Tests if a single group's proportion equals a hypothesized value."
      ],
      "metadata": {
        "id": "mYEBRHAlUmyH"
      },
      "id": "mYEBRHAlUmyH"
    },
    {
      "cell_type": "code",
      "source": [
        "\n",
        "count = sim_df['high_tip'].sum()\n",
        "nobs = len(sim_df)\n",
        "stat, pval = proportions_ztest(count, nobs, value=0.5)\n",
        "print(f\"One-proportion z-test: z-stat={stat:.3f}, p-value={pval:.3f}\")"
      ],
      "metadata": {
        "colab": {
          "base_uri": "https://localhost:8080/"
        },
        "id": "uxchdnC7Kp7e",
        "outputId": "a2a4fabe-ccb1-4f67-a28b-62066e7d3cd5"
      },
      "id": "uxchdnC7Kp7e",
      "execution_count": 14,
      "outputs": [
        {
          "output_type": "stream",
          "name": "stdout",
          "text": [
            "One-proportion z-test: z-stat=-25.471, p-value=0.000\n"
          ]
        }
      ]
    },
    {
      "cell_type": "markdown",
      "source": [
        "- Interpretation: The observed proportion (e.g., people tipping more than $3) is significantly different from the hypothesized 0.5 (50%). There is very strong evidence against the 50% claim."
      ],
      "metadata": {
        "id": "TKbOJlG2SbyC"
      },
      "id": "TKbOJlG2SbyC"
    },
    {
      "cell_type": "markdown",
      "source": [
        "- # Two-Proportion z-test:\n",
        "Compares proportions between two groups (e.g., smokers vs non-smokers)."
      ],
      "metadata": {
        "id": "ndHOmDroUv12"
      },
      "id": "ndHOmDroUv12"
    },
    {
      "cell_type": "code",
      "source": [
        "# Two-Proportion z-test\n",
        "smoker_counts = sim_df.groupby('smoker')['high_tip'].sum()\n",
        "smoker_n = sim_df.groupby('smoker')['high_tip'].count()\n",
        "stat, pval = proportions_ztest(count=smoker_counts, nobs=smoker_n)\n",
        "print(f\"Two-proportion z-test: z-stat={stat:.3f}, p-value={pval:.3f}\")"
      ],
      "metadata": {
        "colab": {
          "base_uri": "https://localhost:8080/"
        },
        "id": "cSbxwr0nKwR8",
        "outputId": "dccca3c3-5ddf-4283-f5ca-2d0b7cf94c8f"
      },
      "id": "cSbxwr0nKwR8",
      "execution_count": 15,
      "outputs": [
        {
          "output_type": "stream",
          "name": "stdout",
          "text": [
            "Two-proportion z-test: z-stat=0.434, p-value=0.664\n"
          ]
        }
      ]
    },
    {
      "cell_type": "markdown",
      "source": [
        "- Interpretation: There is no significant difference in tipping behavior (e.g., tipping more than $3) between smokers and non-smokers. Both groups behave similarly in this aspect."
      ],
      "metadata": {
        "id": "QHRonEtpSfu_"
      },
      "id": "QHRonEtpSfu_"
    },
    {
      "cell_type": "markdown",
      "source": [
        "# 3. Tests for Variances\n",
        "- # F-test:\n",
        "Compares variances between two groups."
      ],
      "metadata": {
        "id": "kD7cm7kJU6mF"
      },
      "id": "kD7cm7kJU6mF"
    },
    {
      "cell_type": "code",
      "source": [
        "\n",
        "f_stat = male_tips.var() / female_tips.var()\n",
        "df1, df2 = len(male_tips)-1, len(female_tips)-1\n",
        "p_val = 1 - stats.f.cdf(f_stat, df1, df2)\n",
        "print(f\"F-test: F={f_stat:.3f}, p-value={p_val:.3f}\")"
      ],
      "metadata": {
        "colab": {
          "base_uri": "https://localhost:8080/"
        },
        "id": "xkAoIr3mKwa4",
        "outputId": "138d0ece-85aa-46b0-dc84-10c198d41220"
      },
      "id": "xkAoIr3mKwa4",
      "execution_count": 16,
      "outputs": [
        {
          "output_type": "stream",
          "name": "stdout",
          "text": [
            "F-test: F=1.649, p-value=0.006\n"
          ]
        }
      ]
    },
    {
      "cell_type": "markdown",
      "source": [
        "- Interpretation: The variability (spread) of tip amounts is significantly different between the two groups (e.g., male vs female). One group has more consistent tipping than the other."
      ],
      "metadata": {
        "id": "TNQDrD39SpAh"
      },
      "id": "TNQDrD39SpAh"
    },
    {
      "cell_type": "markdown",
      "source": [
        "- # Chi-square test for variance:\n",
        "Tests if the sample variance matches a known population variance."
      ],
      "metadata": {
        "id": "6a-cJDRJVJQ-"
      },
      "id": "6a-cJDRJVJQ-"
    },
    {
      "cell_type": "code",
      "source": [
        "# Chi-square test for variance\n",
        "sample_var = sim_df['tip'].var()\n",
        "n = len(sim_df)\n",
        "chi2_stat = (n - 1) * sample_var / 1.0  # Assume population var = 1\n",
        "p_val = 1 - stats.chi2.cdf(chi2_stat, df=n-1)\n",
        "print(f\"Chi-square test: Chi2={chi2_stat:.3f}, p-value={p_val:.3f}\")"
      ],
      "metadata": {
        "colab": {
          "base_uri": "https://localhost:8080/"
        },
        "id": "XYBAWinbK09A",
        "outputId": "bf69ae69-62e5-4b58-c684-c300cf7b4483"
      },
      "id": "XYBAWinbK09A",
      "execution_count": 17,
      "outputs": [
        {
          "output_type": "stream",
          "name": "stdout",
          "text": [
            "Chi-square test: Chi2=465.212, p-value=0.000\n"
          ]
        }
      ]
    },
    {
      "cell_type": "markdown",
      "source": [
        "- Interpretation: The sample variance does not match the assumed population variance (e.g., assumed to be 1). There's strong evidence that the sample is more/less variable than expected."
      ],
      "metadata": {
        "id": "9JT1eD8vSurH"
      },
      "id": "9JT1eD8vSurH"
    },
    {
      "cell_type": "markdown",
      "source": [
        "# 4. Tests for Association / Independence\n",
        "\n",
        "- # Chi-square Test of Independence:\n",
        " Tests whether two categorical variables are associated."
      ],
      "metadata": {
        "id": "xVa-qzkIVOzy"
      },
      "id": "xVa-qzkIVOzy"
    },
    {
      "cell_type": "code",
      "source": [
        "\n",
        "contingency = pd.crosstab(sim_df['sex'], sim_df['smoker'])\n",
        "chi2, p, dof, expected = stats.chi2_contingency(contingency)\n",
        "print(f\"Chi-square Test of Independence: chi2={chi2:.3f}, p-value={p:.3f}\")"
      ],
      "metadata": {
        "colab": {
          "base_uri": "https://localhost:8080/"
        },
        "id": "TnZTU5YmK6JK",
        "outputId": "891fcb03-c05c-475e-f8a3-1ea79f9421bf"
      },
      "id": "TnZTU5YmK6JK",
      "execution_count": 18,
      "outputs": [
        {
          "output_type": "stream",
          "name": "stdout",
          "text": [
            "Chi-square Test of Independence: chi2=0.000, p-value=1.000\n"
          ]
        }
      ]
    },
    {
      "cell_type": "markdown",
      "source": [
        "- Interpretation: There is no association between the two categorical variables (e.g., sex and smoker). The data shows complete independence."
      ],
      "metadata": {
        "id": "oJGQJprRSzqm"
      },
      "id": "oJGQJprRSzqm"
    },
    {
      "cell_type": "markdown",
      "source": [
        "- # Chi-square Goodness-of-Fit: Tests if observed frequencies match expected ones."
      ],
      "metadata": {
        "id": "vwY-SMcdVZOd"
      },
      "id": "vwY-SMcdVZOd"
    },
    {
      "cell_type": "code",
      "source": [
        "# Goodness of Fit\n",
        "obs_counts = sim_df['day'].value_counts().values\n",
        "expected = [len(sim_df)/4] * 4\n",
        "chi2, p = stats.chisquare(obs_counts, f_exp=expected)\n",
        "print(f\"Chi-square Goodness-of-Fit: chi2={chi2:.3f}, p-value={p:.3f}\")\n"
      ],
      "metadata": {
        "colab": {
          "base_uri": "https://localhost:8080/"
        },
        "id": "2g7VAkAfK6MF",
        "outputId": "ff240860-23da-437c-e8f1-a32236b2fd51"
      },
      "id": "2g7VAkAfK6MF",
      "execution_count": 19,
      "outputs": [
        {
          "output_type": "stream",
          "name": "stdout",
          "text": [
            "Chi-square Goodness-of-Fit: chi2=43.705, p-value=0.000\n"
          ]
        }
      ]
    },
    {
      "cell_type": "markdown",
      "source": [
        "- Interpretation: The observed frequencies (e.g., number of tips per day) do not follow a uniform distribution. Some days clearly have more tips than others."
      ],
      "metadata": {
        "id": "03K4j2YLS5Qd"
      },
      "id": "03K4j2YLS5Qd"
    },
    {
      "cell_type": "markdown",
      "source": [
        "# 5. Non-parametric Tests\n",
        "Used when normality assumptions are not met.\n",
        "- # Mann-Whitney U test:\n",
        "Compares two independent groups (non-parametric alternative to t-test)."
      ],
      "metadata": {
        "id": "fDp9OIhvVgMu"
      },
      "id": "fDp9OIhvVgMu"
    },
    {
      "cell_type": "code",
      "source": [
        "stat, p = stats.mannwhitneyu(male_tips, female_tips)\n",
        "print(f\"Mann-Whitney U: stat={stat:.3f}, p-value={p:.3f}\")"
      ],
      "metadata": {
        "colab": {
          "base_uri": "https://localhost:8080/"
        },
        "id": "VjuG7C5aK6PM",
        "outputId": "7c17eb87-c9b8-40a5-bbff-00f3bd7958f4"
      },
      "id": "VjuG7C5aK6PM",
      "execution_count": 20,
      "outputs": [
        {
          "output_type": "stream",
          "name": "stdout",
          "text": [
            "Mann-Whitney U: stat=7289.500, p-value=0.383\n"
          ]
        }
      ]
    },
    {
      "cell_type": "markdown",
      "source": [
        "- Interpretation: The distributions of tips for males and females are not significantly different. A non-parametric test agrees with the t-test finding."
      ],
      "metadata": {
        "id": "HLdzFqzyS9yp"
      },
      "id": "HLdzFqzyS9yp"
    },
    {
      "cell_type": "markdown",
      "source": [
        "- # Wilcoxon Signed-Rank test:\n",
        "Paired sample test (non-parametric)."
      ],
      "metadata": {
        "id": "lgBs0uRvVw5G"
      },
      "id": "lgBs0uRvVw5G"
    },
    {
      "cell_type": "code",
      "source": [
        "# Wilcoxon Signed-Rank test\n",
        "stat, p = stats.wilcoxon(before, after)\n",
        "print(f\"Wilcoxon Signed-Rank: stat={stat:.3f}, p-value={p:.3f}\")"
      ],
      "metadata": {
        "colab": {
          "base_uri": "https://localhost:8080/"
        },
        "id": "6WzJPVyiLBVH",
        "outputId": "3e006b4f-5c81-4374-a4bb-e8dcfaea68fa"
      },
      "id": "6WzJPVyiLBVH",
      "execution_count": 21,
      "outputs": [
        {
          "output_type": "stream",
          "name": "stdout",
          "text": [
            "Wilcoxon Signed-Rank: stat=46.000, p-value=0.000\n"
          ]
        }
      ]
    },
    {
      "cell_type": "markdown",
      "source": [
        "- Interpretation: There's a significant shift between \"before\" and \"after\" values in paired data, supporting the conclusion that the change is not due to chance."
      ],
      "metadata": {
        "id": "cfYayTUZTCCI"
      },
      "id": "cfYayTUZTCCI"
    },
    {
      "cell_type": "markdown",
      "source": [
        "- # Kruskal-Wallis test:\n",
        "Non-parametric ANOVA for comparing more than two groups."
      ],
      "metadata": {
        "id": "3P3O9Kz6V5kr"
      },
      "id": "3P3O9Kz6V5kr"
    },
    {
      "cell_type": "code",
      "source": [
        "# Kruskal-Wallis test\n",
        "stat, p = stats.kruskal(\n",
        "    *[group['tip'] for _, group in sim_df.groupby('day')]\n",
        ")\n",
        "print(f\"Kruskal-Wallis: stat={stat:.3f}, p-value={p:.3f}\")"
      ],
      "metadata": {
        "colab": {
          "base_uri": "https://localhost:8080/"
        },
        "id": "5Pn0G6j3LBYP",
        "outputId": "db96b4d4-f82a-4a9f-de2c-986888849646"
      },
      "id": "5Pn0G6j3LBYP",
      "execution_count": 22,
      "outputs": [
        {
          "output_type": "stream",
          "name": "stdout",
          "text": [
            "Kruskal-Wallis: stat=8.566, p-value=0.036\n"
          ]
        }
      ]
    },
    {
      "cell_type": "markdown",
      "source": [
        "- Interpretation: At least one group (e.g., one day of the week) has a significantly different median tip. Post-hoc tests would reveal which one."
      ],
      "metadata": {
        "id": "lL8xfmdfTIHo"
      },
      "id": "lL8xfmdfTIHo"
    },
    {
      "cell_type": "markdown",
      "source": [
        "- # Friedman test:\n",
        "Repeated measures ANOVA (non-parametric)."
      ],
      "metadata": {
        "id": "BJap_PhqWA2E"
      },
      "id": "BJap_PhqWA2E"
    },
    {
      "cell_type": "code",
      "source": [
        "# Friedman test\n",
        "repeated_df = pd.DataFrame({\"before\": before, \"after\": after, \"after2\": after + np.random.normal(1, 1, len(after))})\n",
        "stat, p = stats.friedmanchisquare(repeated_df['before'], repeated_df['after'], repeated_df['after2'])\n",
        "print(f\"Friedman test: stat={stat:.3f}, p-value={p:.3f}\")"
      ],
      "metadata": {
        "colab": {
          "base_uri": "https://localhost:8080/"
        },
        "id": "BbNR-kstLBaX",
        "outputId": "23a80bc4-0f4c-4328-ddb2-e22e0de0b1fe"
      },
      "id": "BbNR-kstLBaX",
      "execution_count": 23,
      "outputs": [
        {
          "output_type": "stream",
          "name": "stdout",
          "text": [
            "Friedman test: stat=26.867, p-value=0.000\n"
          ]
        }
      ]
    },
    {
      "cell_type": "markdown",
      "source": [
        "- Interpretation: There are significant differences across related groups (e.g., tips given by the same person before, after, and after2). The treatment or time effect matters."
      ],
      "metadata": {
        "id": "aED75MHwTL_M"
      },
      "id": "aED75MHwTL_M"
    },
    {
      "cell_type": "markdown",
      "source": [
        "- # Sign test:\n",
        "Tests if there is a consistent direction of change in paired data."
      ],
      "metadata": {
        "id": "oG6jRKIEWGhm"
      },
      "id": "oG6jRKIEWGhm"
    },
    {
      "cell_type": "code",
      "source": [
        "# Sign Test (using binomial test approximation)\n",
        "diff = after - before\n",
        "n_pos = (diff > 0).sum()\n",
        "n_total = (diff != 0).sum()\n",
        "# Use the updated binomtest function\n",
        "p = stats.binomtest(k=n_pos, n=n_total, p=0.5).pvalue\n",
        "print(f\"Sign test: p-value={p:.3f}\")"
      ],
      "metadata": {
        "colab": {
          "base_uri": "https://localhost:8080/"
        },
        "id": "XWzhzTSWMQnL",
        "outputId": "22a53365-3e4a-4102-988b-ebc505f4488d"
      },
      "id": "XWzhzTSWMQnL",
      "execution_count": 24,
      "outputs": [
        {
          "output_type": "stream",
          "name": "stdout",
          "text": [
            "Sign test: p-value=0.001\n"
          ]
        }
      ]
    },
    {
      "cell_type": "markdown",
      "source": [
        "- Interpretation: The direction of change (e.g., increase or decrease in tips after an event) is consistently non-random. Most people either increased or decreased their behavior."
      ],
      "metadata": {
        "id": "YLEd30XyTQee"
      },
      "id": "YLEd30XyTQee"
    },
    {
      "cell_type": "markdown",
      "source": [
        "# 6. ANOVA\n",
        "Used to compare means across multiple groups.\n",
        "\n",
        "\n",
        "- # One-Way ANOVA:\n",
        "Tests if mean differs by one factor (e.g., day)."
      ],
      "metadata": {
        "id": "Z-2S8Z_EWP67"
      },
      "id": "Z-2S8Z_EWP67"
    },
    {
      "cell_type": "code",
      "source": [
        "\n",
        "anova_model = ols('tip ~ C(day)', data=sim_df).fit()\n",
        "f, p = sm.stats.anova_lm(anova_model, typ=2).iloc[0][['F', 'PR(>F)']]\n",
        "print(f\"One-Way ANOVA: F={f:.3f}, p-value={p:.3f}\")"
      ],
      "metadata": {
        "colab": {
          "base_uri": "https://localhost:8080/"
        },
        "id": "DIRNXnR4LPri",
        "outputId": "b07d7b8d-18dd-4358-9373-45fd52d6e61c"
      },
      "id": "DIRNXnR4LPri",
      "execution_count": 25,
      "outputs": [
        {
          "output_type": "stream",
          "name": "stdout",
          "text": [
            "One-Way ANOVA: F=1.672, p-value=0.174\n"
          ]
        }
      ]
    },
    {
      "cell_type": "markdown",
      "source": [
        "- Interpretation: There is no significant difference in average tips across different days of the week. Tip amount is not affected by the day."
      ],
      "metadata": {
        "id": "_qzLhBbgTVz_"
      },
      "id": "_qzLhBbgTVz_"
    },
    {
      "cell_type": "markdown",
      "source": [
        "- # Two-Way ANOVA:\n",
        "Tests effect of two factors (e.g., day and sex)."
      ],
      "metadata": {
        "id": "rJgslUS5Wd0S"
      },
      "id": "rJgslUS5Wd0S"
    },
    {
      "cell_type": "code",
      "source": [
        "# Two-Way ANOVA\n",
        "anova_model = ols('tip ~ C(day) + C(sex)', data=sim_df).fit()\n",
        "f_table = sm.stats.anova_lm(anova_model, typ=2)\n",
        "print(\"Two-Way ANOVA:\")\n",
        "print(f_table)"
      ],
      "metadata": {
        "colab": {
          "base_uri": "https://localhost:8080/"
        },
        "id": "W33yXxHKLPus",
        "outputId": "ccec0b2a-1520-45cc-acff-713f6dea2c5d"
      },
      "id": "W33yXxHKLPus",
      "execution_count": 26,
      "outputs": [
        {
          "output_type": "stream",
          "name": "stdout",
          "text": [
            "Two-Way ANOVA:\n",
            "              sum_sq     df         F    PR(>F)\n",
            "C(day)      7.446900    3.0  1.306497  0.272937\n",
            "C(sex)      1.594561    1.0  0.839258  0.360533\n",
            "Residual  454.092042  239.0       NaN       NaN\n"
          ]
        }
      ]
    },
    {
      "cell_type": "markdown",
      "source": [
        "- Interpretation: Neither the day nor the customer's gender has a significant effect on tip amount. Their interaction was not tested here."
      ],
      "metadata": {
        "id": "KJpWQbkITa53"
      },
      "id": "KJpWQbkITa53"
    },
    {
      "cell_type": "markdown",
      "source": [
        "- # Repeated Measures ANOVA:\n",
        " For comparing means of the same subjects under different conditions."
      ],
      "metadata": {
        "id": "VXH6z1UjWjnr"
      },
      "id": "VXH6z1UjWjnr"
    },
    {
      "cell_type": "code",
      "source": [
        "# Repeated Measures ANOVA\n",
        "# (approximate using reshaped data)\n",
        "from statsmodels.stats.anova import AnovaRM\n",
        "long_df = repeated_df.melt(var_name='condition', value_name='score')\n",
        "long_df['subject'] = np.tile(np.arange(len(repeated_df)), 3)\n",
        "rm = AnovaRM(long_df, 'score', 'subject', within=['condition'])\n",
        "res = rm.fit()\n",
        "print(\"Repeated Measures ANOVA:\")\n",
        "print(res)"
      ],
      "metadata": {
        "colab": {
          "base_uri": "https://localhost:8080/"
        },
        "id": "mhPuNHRgLPwt",
        "outputId": "8743ed5f-e8f7-4881-bf61-45a4bcd52568"
      },
      "id": "mhPuNHRgLPwt",
      "execution_count": 27,
      "outputs": [
        {
          "output_type": "stream",
          "name": "stdout",
          "text": [
            "Repeated Measures ANOVA:\n",
            "                 Anova\n",
            "=======================================\n",
            "          F Value Num DF  Den DF Pr > F\n",
            "---------------------------------------\n",
            "condition 32.6069 2.0000 58.0000 0.0000\n",
            "=======================================\n",
            "\n"
          ]
        }
      ]
    },
    {
      "cell_type": "markdown",
      "source": [
        "- Interpretation: There are significant differences in the same group across time or conditions (e.g., before, after, and after2). Time or treatment impacts tips."
      ],
      "metadata": {
        "id": "JhkpqT9oTk53"
      },
      "id": "JhkpqT9oTk53"
    },
    {
      "cell_type": "markdown",
      "source": [
        "# 7. Regression-Based Tests\n",
        "Used to evaluate relationships between continuous variables.\n",
        "\n",
        "- # t-test for slope:\n",
        "Checks if the predictor has a significant effect."
      ],
      "metadata": {
        "id": "MQmxEe4gWpwl"
      },
      "id": "MQmxEe4gWpwl"
    },
    {
      "cell_type": "code",
      "source": [
        "\n",
        "model = ols('tip ~ total_bill', data=sim_df).fit()\n",
        "print(\"Simple Linear Regression:\")\n",
        "print(model.summary())"
      ],
      "metadata": {
        "colab": {
          "base_uri": "https://localhost:8080/"
        },
        "id": "7rq4-xW2LPzO",
        "outputId": "d4947fde-30aa-4ad4-d839-f454e6f71cec"
      },
      "id": "7rq4-xW2LPzO",
      "execution_count": 28,
      "outputs": [
        {
          "output_type": "stream",
          "name": "stdout",
          "text": [
            "Simple Linear Regression:\n",
            "                            OLS Regression Results                            \n",
            "==============================================================================\n",
            "Dep. Variable:                    tip   R-squared:                       0.457\n",
            "Model:                            OLS   Adj. R-squared:                  0.454\n",
            "Method:                 Least Squares   F-statistic:                     203.4\n",
            "Date:                Sun, 25 May 2025   Prob (F-statistic):           6.69e-34\n",
            "Time:                        21:43:04   Log-Likelihood:                -350.54\n",
            "No. Observations:                 244   AIC:                             705.1\n",
            "Df Residuals:                     242   BIC:                             712.1\n",
            "Df Model:                           1                                         \n",
            "Covariance Type:            nonrobust                                         \n",
            "==============================================================================\n",
            "                 coef    std err          t      P>|t|      [0.025      0.975]\n",
            "------------------------------------------------------------------------------\n",
            "Intercept      0.9203      0.160      5.761      0.000       0.606       1.235\n",
            "total_bill     0.1050      0.007     14.260      0.000       0.091       0.120\n",
            "==============================================================================\n",
            "Omnibus:                       20.185   Durbin-Watson:                   2.151\n",
            "Prob(Omnibus):                  0.000   Jarque-Bera (JB):               37.750\n",
            "Skew:                           0.443   Prob(JB):                     6.35e-09\n",
            "Kurtosis:                       4.711   Cond. No.                         53.0\n",
            "==============================================================================\n",
            "\n",
            "Notes:\n",
            "[1] Standard Errors assume that the covariance matrix of the errors is correctly specified.\n"
          ]
        }
      ]
    },
    {
      "cell_type": "markdown",
      "source": [
        "- Output: R² = 0.457, F = 203.4, p = 6.69e-34\n",
        "\n",
        "- Interpretation: The regression model is highly significant. The variable total_bill explains about 46% of the variation in tip amount. As the bill increases, tips increase as well."
      ],
      "metadata": {
        "id": "0Mla2UGjToxl"
      },
      "id": "0Mla2UGjToxl"
    },
    {
      "cell_type": "markdown",
      "source": [
        "- # F-test:\n",
        "Assesses overall regression significance."
      ],
      "metadata": {
        "id": "qBg-WWCTW7kU"
      },
      "id": "qBg-WWCTW7kU"
    },
    {
      "cell_type": "code",
      "source": [
        "# F-test for overall regression significance\n",
        "f_stat = model.fvalue\n",
        "f_pval = model.f_pvalue\n",
        "print(f\"F-test overall: F={f_stat:.3f}, p-value={f_pval:.3f}\")\n"
      ],
      "metadata": {
        "colab": {
          "base_uri": "https://localhost:8080/"
        },
        "id": "lTt0tsUvLP12",
        "outputId": "4e0d9a55-f978-4343-a206-98acb666ccce"
      },
      "id": "lTt0tsUvLP12",
      "execution_count": 29,
      "outputs": [
        {
          "output_type": "stream",
          "name": "stdout",
          "text": [
            "F-test overall: F=203.358, p-value=0.000\n"
          ]
        }
      ]
    },
    {
      "cell_type": "markdown",
      "source": [
        "- Interpretation:\n",
        "Since the p-value is less than 0.05 (actually 0.000), the overall regression model is highly statistically significant. This means the model provides a meaningful explanation of the variation in the dependent variable (e.g., tip amount).\n",
        "\n",
        "- The high F-statistic value (203.358) also indicates that the variance explained by the regression is much greater than the unexplained variance (noise)."
      ],
      "metadata": {
        "id": "Fxxcg7KTTvQP"
      },
      "id": "Fxxcg7KTTvQP"
    },
    {
      "cell_type": "code",
      "source": [],
      "metadata": {
        "id": "vNqlyoGyJSwN"
      },
      "id": "vNqlyoGyJSwN",
      "execution_count": 29,
      "outputs": []
    }
  ],
  "metadata": {
    "colab": {
      "provenance": []
    },
    "language_info": {
      "name": "python"
    },
    "kernelspec": {
      "name": "python3",
      "display_name": "Python 3"
    }
  },
  "nbformat": 4,
  "nbformat_minor": 5
}